{
 "cells": [
  {
   "cell_type": "code",
   "execution_count": null,
   "metadata": {},
   "outputs": [],
   "source": [
    "print ('hi')"
   ]
  },
  {
   "cell_type": "code",
   "execution_count": 1,
   "metadata": {},
   "outputs": [
    {
     "name": "stdout",
     "output_type": "stream",
     "text": [
      "How many stones do you want to play with? Choose more than 5. 9\n",
      "ooooooooo\n",
      "I choose 2 stones. There are now 7 stones.\n",
      "ooooooo\n",
      "How many stones do you choose? You can pick between 1 and 3. 3\n",
      "oooo\n",
      "There are now 4 stones left.\n",
      "I choose 2 stones. There are now 2 stones.\n",
      "oo\n",
      "How many stones do you choose? You can pick between 1 and 3. 3\n",
      "\n",
      "There are now -1 stones left.\n",
      "I win! Press Run to play again!\n"
     ]
    }
   ],
   "source": [
    "from random import randint\n",
    "r = randint(1, 3)\n",
    "i = int(input('How many stones do you want to play with? Choose more than 5. '))\n",
    "if i < 5:\n",
    "    print('Try choosing a bigger number!')\n",
    "else:\n",
    "    print(i* 'o')\n",
    "    for m in range(1, 50):\n",
    "        print('I choose', r, 'stones. There are now', i - r, 'stones.')\n",
    "        i = i - r\n",
    "        print(i * 'o')\n",
    "        s = input('How many stones do you choose? You can pick between 1 and 3. ')\n",
    "        if s in ['1', '2', '3']:\n",
    "            t = int(s)\n",
    "        else:\n",
    "            print('You are a cheater and you suck. Goodbye.')\n",
    "            break    \n",
    "        i = i - t\n",
    "        print(i * 'o')\n",
    "        print ('There are now', i, 'stones left.')\n",
    "        if i == 1:\n",
    "            print('You win! Press Run to play again!')\n",
    "            break\n",
    "        if i < 1:\n",
    "            print('I win! Press Run to play again!')\n",
    "            break\n",
    "\n"
   ]
  },
  {
   "cell_type": "markdown",
   "metadata": {},
   "source": [
    "### print(5*'boom')"
   ]
  },
  {
   "cell_type": "code",
   "execution_count": null,
   "metadata": {},
   "outputs": [],
   "source": []
  },
  {
   "cell_type": "code",
   "execution_count": null,
   "metadata": {},
   "outputs": [],
   "source": []
  },
  {
   "cell_type": "code",
   "execution_count": null,
   "metadata": {},
   "outputs": [],
   "source": []
  }
 ],
 "metadata": {
  "kernelspec": {
   "display_name": "Python [conda root]",
   "language": "python",
   "name": "conda-root-py"
  },
  "language_info": {
   "codemirror_mode": {
    "name": "ipython",
    "version": 3
   },
   "file_extension": ".py",
   "mimetype": "text/x-python",
   "name": "python",
   "nbconvert_exporter": "python",
   "pygments_lexer": "ipython3",
   "version": "3.6.6"
  }
 },
 "nbformat": 4,
 "nbformat_minor": 2
}
